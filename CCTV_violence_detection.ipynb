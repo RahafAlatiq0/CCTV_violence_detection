{
  "nbformat": 4,
  "nbformat_minor": 0,
  "metadata": {
    "colab": {
      "provenance": []
    },
    "kernelspec": {
      "name": "python3",
      "display_name": "Python 3"
    },
    "language_info": {
      "name": "python"
    }
  },
  "cells": [
    {
      "cell_type": "code",
      "source": [
        "import numpy as np\n",
        "import pandas as pd\n",
        "import seaborn as sns\n",
        "import matplotlib.pyplot as plt\n",
        "import tensorflow as tf\n",
        "import os\n",
        "import cv2\n",
        "import re\n",
        "import collections\n",
        "\n",
        "kaggle_username = \"rahaf8\"\n",
        "kaggle_key = \"f59b8cb26f2973bc6fb4c52b1516ac19\"\n",
        "os.environ[\"KAGGLE_USERNAME\"] = kaggle_username\n",
        "os.environ[\"KAGGLE_KEY\"] = kaggle_key\n",
        "import kaggle\n",
        "\n",
        "import warnings\n",
        "warnings.filterwarnings('ignore')"
      ],
      "metadata": {
        "id": "crpJ0COcY2Ok"
      },
      "execution_count": 1,
      "outputs": []
    },
    {
      "cell_type": "code",
      "source": [
        "def get_kaggle_dataset(dataset_name):\n",
        "    \"\"\"Get dataset from Kaggle.\n",
        "\n",
        "    Args:\n",
        "        dataset_name: the dataset name.\n",
        "    \"\"\"\n",
        "\n",
        "    # Download the dataset using the Kaggle API\n",
        "    kaggle.api.dataset_download_files(dataset_name, path=\".\", unzip=True)"
      ],
      "metadata": {
        "id": "Te69JLXQ2lh6"
      },
      "execution_count": 2,
      "outputs": []
    },
    {
      "cell_type": "code",
      "source": [
        "def video_dataframe(data_dir):\n",
        "  \"\"\"Get video dataframe.\n",
        "\n",
        "    Args:\n",
        "      files_path: A path from which the files can be stored.\n",
        "\n",
        "    Returns:\n",
        "      Video dataframe containing the labels , videos name , and videos path.\n",
        "  \"\"\"\n",
        "  vidDf = pd.DataFrame(columns=['Lable','VidName','VidPath'])\n",
        "\n",
        "  for dirname, _, filenames in os.walk(data_dir):\n",
        "      for name in filenames:\n",
        "            vidDf =  vidDf.append({'Lable': re.match(r'^[^\\d_]+', name).group(),\n",
        "                                   'VidName': name,\n",
        "                                   'VidPath': os.path.join(dirname, name)},\n",
        "                                    ignore_index=True)\n",
        "  return vidDf"
      ],
      "metadata": {
        "id": "rLTPe1bJL6Sb"
      },
      "execution_count": 3,
      "outputs": []
    },
    {
      "cell_type": "code",
      "source": [
        "dataset_name = \"shashiprakash204/ucfcrimeminidataset\"\n",
        "dataset_dir = \"/content/dataset/\"\n",
        "\n",
        "get_kaggle_dataset(dataset_name)"
      ],
      "metadata": {
        "id": "VsdinTHK4R9Z"
      },
      "execution_count": 6,
      "outputs": []
    },
    {
      "cell_type": "code",
      "source": [
        "video_df = video_dataframe(dataset_dir)\n",
        "classes = video_df['Lable'].unique().tolist()\n",
        "print('Number of classes', len(classes))\n",
        "print('Num videos for each class: : ')\n",
        "print(video_df['Lable'].value_counts())"
      ],
      "metadata": {
        "colab": {
          "base_uri": "https://localhost:8080/"
        },
        "id": "x6e8i--rehke",
        "outputId": "344c1c91-64fd-4f76-884f-fdf129c6f7a7"
      },
      "execution_count": 8,
      "outputs": [
        {
          "output_type": "stream",
          "name": "stdout",
          "text": [
            "Number of classes 6\n",
            "Num videos for each class: : \n",
            "Fighting    7\n",
            "Arrest      7\n",
            "Burglary    7\n",
            "Abuse       7\n",
            "Assault     7\n",
            "Normal      7\n",
            "Name: Lable, dtype: int64\n"
          ]
        }
      ]
    },
    {
      "cell_type": "code",
      "source": [],
      "metadata": {
        "id": "YuHIZ_YSCDSr"
      },
      "execution_count": 5,
      "outputs": []
    }
  ]
}