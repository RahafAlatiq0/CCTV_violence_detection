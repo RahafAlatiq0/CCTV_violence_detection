{
  "nbformat": 4,
  "nbformat_minor": 0,
  "metadata": {
    "colab": {
      "provenance": []
    },
    "kernelspec": {
      "name": "python3",
      "display_name": "Python 3"
    },
    "language_info": {
      "name": "python"
    }
  },
  "cells": [
    {
      "cell_type": "code",
      "execution_count": 1,
      "metadata": {
        "id": "u61BqUopY1WH"
      },
      "outputs": [],
      "source": [
        "! pip install opendatasets --quiet"
      ]
    },
    {
      "cell_type": "code",
      "source": [
        "import opendatasets as od\n",
        "import numpy as np\n",
        "import pandas as pd\n",
        "import seaborn as sns\n",
        "import matplotlib.pyplot as plt\n",
        "import tensorflow as tf\n",
        "from tensorflow.keras.preprocessing.image import ImageDataGenerator"
      ],
      "metadata": {
        "id": "crpJ0COcY2Ok"
      },
      "execution_count": 2,
      "outputs": []
    },
    {
      "cell_type": "code",
      "source": [
        "#{\"username\":\"rahaf8\",\"key\":\"f59b8cb26f2973bc6fb4c52b1516ac19\"}\n",
        "\n",
        "dataset_url = 'https://www.kaggle.com/datasets/shashiprakash204/ucfcrimeminidataset'\n",
        "\n",
        "# Specify the folder or file you want to download\n",
        "\n",
        "od.download(dataset_url)"
      ],
      "metadata": {
        "colab": {
          "base_uri": "https://localhost:8080/"
        },
        "id": "yKQflEvPY3sz",
        "outputId": "48b6ac09-a9f1-486e-fada-ddba33cc4192"
      },
      "execution_count": 4,
      "outputs": [
        {
          "output_type": "stream",
          "name": "stdout",
          "text": [
            "Please provide your Kaggle credentials to download this dataset. Learn more: http://bit.ly/kaggle-creds\n",
            "Your Kaggle username: rahaf8\n",
            "Your Kaggle Key: ··········\n",
            "Downloading ucfcrimeminidataset.zip to ./ucfcrimeminidataset\n"
          ]
        },
        {
          "output_type": "stream",
          "name": "stderr",
          "text": [
            "100%|██████████| 897M/897M [00:09<00:00, 99.0MB/s]\n"
          ]
        },
        {
          "output_type": "stream",
          "name": "stdout",
          "text": [
            "\n"
          ]
        }
      ]
    },
    {
      "cell_type": "code",
      "source": [
        "dataset_dir = \"/content/ucfcrimeminidataset/dataset\"\n"
      ],
      "metadata": {
        "id": "I661oHfpZFdZ"
      },
      "execution_count": 5,
      "outputs": []
    },
    {
      "cell_type": "code",
      "source": [
        "labels = ['Abuse','Arrest','Assault','Burglary','Fighting',\"Normal\"]\n"
      ],
      "metadata": {
        "id": "I8b5DPbngMwY"
      },
      "execution_count": 6,
      "outputs": []
    },
    {
      "cell_type": "code",
      "source": [],
      "metadata": {
        "id": "rLTPe1bJL6Sb"
      },
      "execution_count": null,
      "outputs": []
    }
  ]
}