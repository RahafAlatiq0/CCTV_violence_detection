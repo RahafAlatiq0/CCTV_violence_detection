{
  "nbformat": 4,
  "nbformat_minor": 0,
  "metadata": {
    "colab": {
      "provenance": []
    },
    "kernelspec": {
      "name": "python3",
      "display_name": "Python 3"
    },
    "language_info": {
      "name": "python"
    }
  },
  "cells": [
    {
      "cell_type": "code",
      "execution_count": null,
      "metadata": {
        "id": "u61BqUopY1WH"
      },
      "outputs": [],
      "source": [
        "! pip install opendatasets --quiet"
      ]
    },
    {
      "cell_type": "code",
      "source": [
        "import opendatasets as od\n",
        "import numpy as np\n",
        "import pandas as pd\n",
        "import seaborn as sns\n",
        "import matplotlib.pyplot as plt\n",
        "import tensorflow as tf\n",
        "import os\n",
        "import cv2\n",
        "import re\n",
        "import collections\n",
        "from tensorflow.keras.preprocessing.image import ImageDataGenerator"
      ],
      "metadata": {
        "id": "crpJ0COcY2Ok"
      },
      "execution_count": 15,
      "outputs": []
    },
    {
      "cell_type": "code",
      "source": [
        "#{\"username\":\"rahaf8\",\"key\":\"f59b8cb26f2973bc6fb4c52b1516ac19\"}\n",
        "\n",
        "dataset_url = 'https://www.kaggle.com/datasets/shashiprakash204/ucfcrimeminidataset'\n",
        "\n",
        "# Specify the folder or file you want to download\n",
        "\n",
        "od.download(dataset_url)"
      ],
      "metadata": {
        "colab": {
          "base_uri": "https://localhost:8080/"
        },
        "id": "yKQflEvPY3sz",
        "outputId": "48b6ac09-a9f1-486e-fada-ddba33cc4192"
      },
      "execution_count": null,
      "outputs": [
        {
          "output_type": "stream",
          "name": "stdout",
          "text": [
            "Please provide your Kaggle credentials to download this dataset. Learn more: http://bit.ly/kaggle-creds\n",
            "Your Kaggle username: rahaf8\n",
            "Your Kaggle Key: ··········\n",
            "Downloading ucfcrimeminidataset.zip to ./ucfcrimeminidataset\n"
          ]
        },
        {
          "output_type": "stream",
          "name": "stderr",
          "text": [
            "100%|██████████| 897M/897M [00:09<00:00, 99.0MB/s]\n"
          ]
        },
        {
          "output_type": "stream",
          "name": "stdout",
          "text": [
            "\n"
          ]
        }
      ]
    },
    {
      "cell_type": "code",
      "source": [
        "dataset_dir = \"/content/ucfcrimeminidataset/dataset/\"\n"
      ],
      "metadata": {
        "id": "I661oHfpZFdZ"
      },
      "execution_count": null,
      "outputs": []
    },
    {
      "cell_type": "code",
      "source": [
        "def list_files_from_files_path(files_path):\n",
        "  \"\"\" List the files in each class of the dataset given a Path.\n",
        "\n",
        "    Args:\n",
        "      files_path: A path from which the files can be stored.\n",
        "\n",
        "    Returns:\n",
        "      List of files in each of the classes.\n",
        "  \"\"\"\n",
        "  files_name = []\n",
        "  for dirname, _, filenames in os.walk(files_path):\n",
        "      for name in filenames:\n",
        "            files_name.append(name)\n",
        "\n",
        "  return files_name"
      ],
      "metadata": {
        "id": "rLTPe1bJL6Sb"
      },
      "execution_count": 26,
      "outputs": []
    },
    {
      "cell_type": "code",
      "source": [
        "def get_files_per_class(files):\n",
        "  \"\"\" Retrieve the files that belong to each class.\n",
        "\n",
        "    Args:\n",
        "      files: List of files in the dataset.\n",
        "\n",
        "    Returns:\n",
        "      Dictionary of class names (key) and files (values).\n",
        "  \"\"\"\n",
        "  files_for_class = collections.defaultdict(list)\n",
        "  for fname in files:\n",
        "    class_name = re.match(r'^[^\\d_]+', fname).group()\n",
        "\n",
        "    files_for_class[class_name].append(fname)\n",
        "  return files_for_class\n",
        ""
      ],
      "metadata": {
        "id": "FxYsWMM9Rfu6"
      },
      "execution_count": 24,
      "outputs": []
    },
    {
      "cell_type": "code",
      "source": [
        "files = list_files_from_files_path(dataset_dir)\n",
        "files_for_class = get_files_per_class(files)\n",
        "classes = list(files_for_class.keys())"
      ],
      "metadata": {
        "id": "fZtZBY8qYRnc"
      },
      "execution_count": 43,
      "outputs": []
    },
    {
      "cell_type": "code",
      "source": [
        "print('Num classes:', len(classes))\n",
        "print(f'Num videos for {classes[0]}:', len(files_for_class[classes[0]]))"
      ],
      "metadata": {
        "colab": {
          "base_uri": "https://localhost:8080/"
        },
        "id": "x6e8i--rehke",
        "outputId": "23dac8ff-c40f-423e-b668-f51b8b55a6d5"
      },
      "execution_count": 46,
      "outputs": [
        {
          "output_type": "stream",
          "name": "stdout",
          "text": [
            "Num classes: 6\n",
            "Num videos for Fighting: 7\n"
          ]
        }
      ]
    },
    {
      "cell_type": "code",
      "source": [],
      "metadata": {
        "id": "gVJJrF1Xlam2"
      },
      "execution_count": null,
      "outputs": []
    }
  ]
}