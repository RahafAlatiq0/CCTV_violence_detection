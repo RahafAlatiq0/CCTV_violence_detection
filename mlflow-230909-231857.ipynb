{
  "nbformat": 4,
  "nbformat_minor": 0,
  "metadata": {
    "colab": {
      "provenance": []
    },
    "kernelspec": {
      "name": "python3",
      "display_name": "Python 3"
    },
    "language_info": {
      "name": "python"
    }
  },
  "cells": [
    {
      "cell_type": "markdown",
      "source": [
        "# Introduction to MLflow: Managing the Machine Learning Lifecycle"
      ],
      "metadata": {
        "id": "77d0Wn16La0P"
      }
    },
    {
      "cell_type": "markdown",
      "source": [
        "![image.png](data:image/png;base64,iVBORw0KGgoAAAANSUhEUgAAAWoAAACLCAIAAADH1UQnAAAdR0lEQVR4Ae1dP28TTRNfPkK+QJpIqd9UUUqE0lI8oqGh4AuEhgqleaCzsRwllQtXiUQaikAD6JEsQSSkRDSRQA+P4c44yh+cRI5xgkls36tlw3K529uZvf8OE1mwt7d3uzuz+7vZmdlZ5tDfH0aBztnwVf2kstG++2z/+pPd8UqTLTWuLfIfW2qMV5oT1e3rT3bvPtt//Obo+cdus9v/wyhE3cVSgGELUrkRp0Cz269stCeq26xgsaLFyjYr2wI1/P+Ku/zfosXLLzXq7fMRJwA1P34KEHzET9O8vXHr64+7z/Y5EJR0kOEHEZnDlhq9wTBv/aL2ZE4Bgo/MWZBgA5rd/gVwBAsaEiOCEqxs33y6l2Ar6dUjSwGCj5FlHdTwla0OW2poVihBeOHJZyV7ZasD1Ub3/0QKEHxcQa73BsN7L1qsaHmAINwlK9tbX39cQTJRlyJTgOAjMglz9oLO2fD6k924sEOYY3LWRWpOXihA8JEXTsTSjs7ZcGZ5J/qCRcoprGzffbYfS9voJVePAgQfV4qnXO6IoCWVqCETpPi4UuMj7s4QfMRN0ezex40spUBXDokIRglWtMjjIzuW5r1mgo+8cwjZvtUP31ghHl2pG1/YUgPZACr2B1KA4OMqMP2wN4iyZvntXfoTgIQbO3c2LVj3XrSuAoGoD8lQgOAjGbqm+1a+bDFXeQjUGK80H785qn0+OewNPK2ufT4hk62HJnTppgDBh5saI5ne3O2FMNOyonXz6d7mbm8k+0yNzgcFCD7ywYcIrbj5dM9I9OBCx1Kj9vkkQp30KFGAU4DgY7THwdbXH6bYMbO80zmj/W+jzfectJ7gIyeMCNmM+/8c4OGDle2Z5R3aOxuS1vSYjwIEHz6SjE5Gtz8crzTddlZ9erzS9OtHR6e71NLcUYDgI3cswTeo9vkE7yfGihYpSvG0pZIYChB8YKiU0zL4lQsr2+TBkVMujnKzCD5GmHv43XGsbFPI0hHmdF6bTvCRV85A7aq3z2WIY73Kg0QPiJZ0PyQFCD5CEi7zx7jiAxcQiBUtch7NnF9XsgEEH6PK1oevjzAmWzLWjiqDR6HdBB+jwCVVG5HOpqxsP3x9pHoB5REFolKA4CMqBTN5vnM2nKhu61Ue4i7ZazNh0B9SKcHHSDKa601xW2yTdhW7OHfq5+5+scdf8e/fn8jlZCTHGdRogg+IQo5zenrKcH/wu2Iq8aqOchhjZfv6k92Y6lS8pnM2xFh/2FKj26ddNgoCjnoWwQfMwRzCB15vev+fA7iHYUvwWAGQEJQ0hIVtOz0XAwUIPmAi5hA+kCGRWdFK9IQnfhIVFF2VdLfwCBvZEgQfMOvyBh+HvQFypxwr2YkGOsZEOWMl+/nHLkxlKjGCFCD4gJmWN/jgelPomy/MLinoTUHrDyta5C8PD7LRLEHwAfMtb/DBg6oj/E2TVjogveYnqtukN4UH2WiWIPiA+ZY3+EButGVlO1G9KSZcAB1SBw+vUS5B8AFzL2/wgdebJqp0wFh/WMmubLRhElOJ0aQAwQfMt1zBh4HetJys3hSDYuTzCg+vUS5B8AFzL1fwwWMjIxQf1xYbiepNkSjGlhoUHhEeYSNbguADZl2u4KOy0caYXZLWm2IivIs2UGRmeISNbAmCD5h1uYKPey9aoKPntcVG0s5a3GEMEoKS1t3CnKMSCVOA4AMmcH7gozcYIgMUsqL1qp7gQVAYFGNFa/XDN5i+VGJkKUDwAbMuIfi496J1/cmu6Q9005IFZpZ3TF8uymPOkcKgGEtYdwtzjkokTAGCD5jACcEHW+JLDNOfRAdMwvTlovxEdVtPlGa3j9loO1HdJr2pnpKjfpfgA+ZgUvBRsDAQkHIZjMICcyg3K9s3n+7BxKUSo0wBgg+Ye0nAB/f4zid8FC3Q2ezxmyPQ+pO07hZmG5VIngIEHzCNk4APfJz09KUPcMWB2mhbtGqfE9TdwmyjEslTgOADpnES8IGJlJEycAhzLxidDBlmlS01aKMtPLZGvATBB8zAJOCDy/9QnK5M4AMMy44JsypOh4ApSyVGnAIEHzADk4APjPyfAXwU4GO0n3/sYhzG7j7bhylLJUacAgQfMAOTgA8eoDyH0sdSo3MGxDTGhAtIOkgizDMqkQoFCD5gMicBH6DlIgPRA2dqRW20Ldt0LCY8sEa/BMEHzMPY4eOwN2B/f2JFy+BnIqoYvNbdhoIFxuZAbrRNdLMvzDAqkRYFCD5gSscOH73BsNntG/14gEJcfFNh8jB6uSwM7o7FhAtIerOvh2Hd/rDbH4It9zxFl7FQIAb4OD09rdVqCwsLd+7cmZyclAcqjY2Nzc7Ozs/Pr66u7u1FdUCs1+vVanV+fn52dnZsbMxfS7VardfrsRDF85LY4cPzfsxlTvbpY5qRnMNYbzB81z5b+XLy4P3x7XdHU+stz++vzcMH748XP317uf8d9F7BkJ3K6CnAVhF/QdOyVqvduXNHzmR9Ynp6ulqtHh8f6xvkuVuv1x89eqR/s/vu5OTkwsJCdLRyNyMP8IG01LCy/fhNggdiY5rB4nYY6w2GL/e/P3h/LMHixtsDzU8Wu/3uaOXLSRI4svX1x8pWZ/XDN/AXi+/cYW+wstV5/rErf7XPJ7XPJ5u7PfHb+vpD/EDNt3tgB6U3d3urH77Jul7VeV2yOlkXX4Nj/qrVqqemWq02PT2NedZfxv82z8vFZb1en5ub8z+OzJmfnzeFKmUznHwcUok/2CWW8aokRbePPZc7rsNluv3hypeTvzYPp9ZbGrzQ3BJQ8uD98bv2mbJT4TK59bqAUF0VrJnlnXBVuJ/i4RFkdSWblWy1euvvT6D2yv3aoDR3IJRKMWV1BYv9/YmvZDF/7gm/t7eHlziCXj49PR0k0YguVavVoGfx+WNjY7VaLYhG+PzMpQ9+lCxug0yie+T5RluE/mW80sTTVlPy5f73G28PQgOHB1Om1lsP3h//1z3X1Ii/hTmdU9jOJqrbEfUyGD89URcr2/detPC9UJbE+EPLAPqoySjhY2Njw613QD0cXEg5t09PT6MIHf7aFhYWlGTCZ2YOH/gNMmypge+XaUn+yYXgQw4s05e7y//XPReqDQ8ERL+cWm8tfvoWcT47jrP19QfSsj5eaUasDrNglPAB7jlw01mZxsi5rGgJAdM/3RQ5Aj5qtZriXrSsjY0Ndx9OT09v3boV7ZWKp+fn5921mKYzhw+MwlLsWEl0j3w6JzOsfDmJDhNBbxAySPRjq/iyf6mBQRBWtqNUh4mN4G5GRGHH1KVYMdn8WcJ04s+PJcet5oy+LApqUhQZJHP4QH5/kj5U5ebTPdBTlpXtzd2eKUDL8o/+7cS1WvEjyNR6a+VLbJuAMV9pjukFK4o6E+Ok54aP8Uozyk5FjDO0FD0cxwmabpfyq9Xq//73v0tZ8V3Mzs6K0WNkYQlRv0fSkUMWTGQOH9iRWrIT1ZtivrehT2boDYbCtuKf9tFzptZbf20exqX4EAMGE65RwEdoRfKr+gm4vciNHUICjVSd4eIUNQ1j1Hco61tbW9vY2FDeijFzcnLy9PQUBAt/gWzhg8vJSL1pkodRczU71IwoG20TxY5H/3YiKiD8owIrEhbhXYj+l4scjCzghY8InxAMILKC5d6OEOP0DP+qycnJ0GZgo1rDLWGyhY+c6E2RCvlwp+qGww7p36ERT6bWWy/3vwfNzyj5GE0QFwcQ0duUzcAcheHBDl5d2FNBw51YbDT7rkLhEAJItvCRE70p6mSGkh3idIiVLydG+g6BGrffHQnv0nftswfvj/0IMrXeuv3uCKMIuPei5f6iKiezPxM5vVnJXtnq+B8Hc/zQgMkJbbvFKFlY8ZLogdV96GFjcnLy1s+/2dlZfcmId6enp0VFUUSV1dVVkHOeAtnCB0ZhGeWz4+ls0CVGkA7hdfKufYbHDoEIL/e/e1Yij/7teOBDGGiD+iLzt77+GK80WdEKYbDAfK5D84WLNpAaQokm4SJUY9xYlCb58DN6bm5OqYw8Pj5eW1uLMsM9bVpYWFD6mNXr9YWFBU9h8FJqauUYAhPZwodylPgzY3cVd5OF+61BZ8rxqWLoddLtDz3TPuhSAEeQ56hf+ggq6e6UEB+ELYmVbNNlF+aYTk4T820EeC9BxTAo2xPVbVNTMeYTxUqKIAzgdFMUuHXrltva6maJO722tqZ42CRrbm4OXGuEcDMzdWbPED4M9KYFK4nNHYKhGP1LiO8e0kwLGlwlfAi3DpAOnbMhnzCXNcHMUMfZ7Pb9s9efE2I1gVkn+iuSOaa2WwwOKkWPMIsXIxeser1uAheXyhqtMozEkLW1NTfMgekM4QMzb8W4Mf3yg712F8BEZjVV2v3XPUcuW0BRQu6+xbh1bO72+ILFFz8lRJwBlCUbF4RJUpu7qCMEPQkW/gQr2Ua2W4wJiQXEf7o0Y8GLubk52U9kIpyvqnSTR9biOA7e1d3U/pIhfOREb4oUbo28TqTIELRgEfkY3eftd0c33h6AKOM4DsfB4MnJCmaHS0xUt/2z15NjikoYUnuq8FwaLWOjiB5m0sfY2Bh+MrtL4ie2wK8QIOU4zvHxMQh/osCdO3fczQPTGcIHcjCZfvnBLnsKoD6zJRtcNcjXYkSPqfUW0tHr0b8dzGqfrwR9Qod77iU01cFDPyVZuAozlMb0Ui9MbLeYhZLGkxg543gx5Q432XNNwnQJg1GsKKtD+q1OTk4qHw/KzBA+MPOW6+fiDrHhJgXyQDz8JHEcZ/HTN/3KJSF/DXALicctyk0HfxoTNdpIowxaT8crzZnlHTdY+NOYY0ZFX+rtc//jnpwgrYd4gwF8+MmHz8HbdI10K54G4HHK86D+Miv4QG6Q5wM02sYKffd5nMRggV+MNlMFIYgdD96bhZXSd8F9V28TNQqVhl1aFi2PpdndHpnmLupa0UPImKAeCq/DxsCfRvQwWLyY6gskUURifn4eCVRKY7DnbZpLZC2aN/hvZQUfSM+Ca4uNuEJs+PvuOA5qkBWt1Q/flI/7M0Ffj6n1Fn4d5H+/Pqc3GOplOjwxwQl/ga0Io1hvMAR9xscrzc7ZENwII7YOgKs5jOUIRCLkdGMRZ/Xq6iqmpsnJSVOrqmesIMUcz1P6y6zgA/txK9uJnsmEchgrXASA0FNS3NWvXJAeX5iKgspwwgbLUwzdF4y3lZANQa9WcE8AK17EwcdUitm4qJfCpFCp3z+NmdS8DOh/EcQqkY/cEXfr1i39e8C7SDUt+B53gazgIw96U/6tvuwf4VkbX4yzouWmmD6tN7VMrbcw1hZ9Ffq73f5Qo0PFu5nz1aVWFyuJo7dJdc6G4Kbqieq22PjPK4VCjYAIeNgbKPnozgRFD4PFi54f4F2kViKczcVdO1J76n4ETGcFH+AokaNT/4kAO6gpAOoa+de1bOODXHX7Q73i4/a7BEM9y55qLA56ZaF8g0gg4eP5x67nQfclV2fotR5Fy71xBsQaBm0+AmvkbC3BoVuw0oe7tyHSSPiIojcVrboy8GEQ4bJggQvdECwTj2AWUEZ+2XrFB+hgGrojngf1+mC8FQmcyWIeuie/pyVg4DL20w/drXwFDTR6Qz4XvkD5BfdJIPjwcFNxmYn0gdeb4se6om9QFmYBZWQ2frn/XSN9TK23MN5fUKvh+/rdAAy9FgNnsoAPTQB0rpnWix4l2yO8gMpsve1Wr/q5EGkRokfuFi8kfciBjxEvxcIhenBtWak/gRLOTczG+u35U+utKKH9/O0PytHbX1gBZWp1HEezCJJ6BI10BsqYyghMYKwAjdqiN4D1LPjVKEkfQQPsd34m0gfmsw9+2X73IVSKa+kQelO8pRPjMOaW0kO1GvVQb8DPrAkCR1awkOpb5OIuyDQG7jdhquhhGONL0L5b0MTDBxV69yDBBzzaMoEPzKLaiNNwP30lkHG3jcQfvdX2r83DdODDcRzNugO0XEhSIUmkjIDPUUC/bAnYbofxFr222FD6zoDjCi960OJFDgNdIn34QI4PsXhJTtrHxOPDmzkFifXwcePtQU7gAyl9YLZEKxcgjuOAAqbG4xNGAZX3il5hfKH1KBgEZyXpQwcc4l768IHUmwaNS7hLuBIa8f73wv5y7FzwxXr4mFpvpQMf4OJF+en29w65v96/vgNxR28/1ohOUvfpUbg6jgODDs7gIulA8CFJEZhIHz7AfQ0XQySOQwmDus2Vi1rRWrYh6A3KfNDygpy3ypfjM0HVKfJVWLe6su15Ieiirg/bAaps/bZb1DrLRPSgxYuHp+rL9OEDFGvlF0ZjEVR3Bp0LrszF0gnvMCZqBuEjocDonn7rtxEbxV4SvND/6zHlgIsIcAsiqAH1vwGUJY20HoKeJH14xpXiMmX4wJjWLuDD8Fuh6FtwFjhABXw8fmPmJKqP9JHChhfRY03vNFZPJbVAOYITymXKwfCXFYHQk+Dy1tMLXh4yojHz4UTwoRwSlzJTho+c6E1BmyKfFaEOMdG4jd14e/DX5uEl6idzoZHvNG4ayrYgCSV3zYFeW5igAaDDyLXFhjt8PIhxIUQPWrwox4M3M2X4AJVqF6JH2Z5Z3klO0Qiq2cRHNYSqQsQWDNo4l4LjKXc51ey4LVpGp9VgFFXSMZdHUYd22bES6lRt/XJJyIbCKodah5qLHgQfXqRQXqcMHxhzqRgcRg4Xyq4FZWI+bqHjjOgdT2+8PUguVpDor36vukdPEUQima9ZB8kZLsU0jIs6Up8F6zJ+2W5hM42hwUX2nRYvkhSBiZThQyNXy+HI4SPs8WWB/XTdAJfWAr+CnCldb1Ik9eqPG28P8FFOFW+HsgDRI8BTS/NWTNAgwSxeNaSAuLbY0NTlvgUumthPMYoHQ4YsaCG0HqIlBB9ujqjTacJHtw9vSbhYvBg6XKj7FpCLkYD8psGAlymyg1YuMj85DYgenZlJ2DTRMT4/IVBgZbuy0cZMeM3eXA8dQX95gVlwpeaIKVtC8CFJEZhIEz4M9KZLaq/kwG6Y3ADFXS59oHdG+GsG1y9GJhi8AogvNKCpjn+b6Bff/w69UygmQa2H37vMTzqZg5EQucYU3JsfgY8EH5IdgYk04QMzJsTC4fqTXdOBHtjDyzcw8SCEBBTaX75zpgsahD/d2nGcZrePnHVcgxisMRXrQVM7tKAcuDoQLHOvPf1pqR+5zI3AK66fglYl/lo8OR77bmBlATcIPgII48pOEz4wqwYxFk3PZHV1CEgijw4ydRjz1BrkvW4kd3BPyrLNCnCoRI4dkMkjaJuZp+X+S8x5UZ5567kMt/8A0yNPRZ5LaRLydwqTQ/ABUylN+NCvzCXvE9WbokwJZeMzpT2EPuwNpKZDJIQ/CNLrtNsfcsftX9KE5+WeS4EyknrKBCta4UQPzOY3ZY3uTOXGfE8v/JcY47q7Fk86nK+HuxkEH25qqNOpwUfnjAeh8PBYecmKlnRDUjc6Qi6obOPij7mK0d8itwYEebq1eMnW1x98Vf9LdNcsXg57A9BWKqS5oAAZ/mb7c8DwX0omyszQKwgMp2Qt/kQ4zHJ3n+DDTQ11OjX4wOtNxyvNEP5a6u75cjEQxorYgDq+11/KMDrdWjxZ2Wh7VAlK+OicDVe2Ovw07F8o458/MifiRAKNILIiZQITlPgS1X5dRKk3uuhBbmO/+KD9PzX4wHgQiJkTUe+g6S7mHADhMBZab+quvdnt3353hIxvetgb8O+tDw7c0V4Pe4PN3d79fw6QwCEkqdDLFtEXzGZWJXAIboZzn3EcJ1K9qjhmbtZg0iR9wFRKDT7wetPk/E1RDs6xHkyFtB9t7vY4IqjUn+OV5sPXR3ef7c8s74gyymLKCcxKtjIUGDwsXCVAm46yapHJynbodShXcv/S/miq8N+KRfQg6cM1BIKTqcEHVm96+dSP4IaHuYMJ0cxKdsTPtWnLxL4SDShw+8vPn3+qaHKEvSO6GIV0J/W3xL+t3ogyyGgjinrjED0IPlDMSgc+cqI3xUBYFIcxFMVdhQ57A+7D5luw+KeEaY44PyUuFVI4KeDaYgMZFdFFkkvJEMaXuEQPgo9LnAi6SAc+kLvUhN4hrkHv6TLeZT6hBnjaw53ozGUKDI6wojWzvBPj8VphpnHJfvjaLFqKhz7hbMYR9cTuNpDuw00NdTod+OBqMMQ3NsZPh7+3SIexRAMFyFZxayjkDI5BCn8ZVrRiVx5h3Pw9LcEcZC2pEZTAhAtw1xvOPy2odoKPIMr8zk8HPvB60+T8TTGa/IjL9d9kDU4JP3QMmLonBiYtZJnVD9+CKw95Bww+6mleXPojMO6hv179ed1G/Sf4gMmVDnxglA7CypjE6BdUwLg/sSQVt6IZvcHwwrkDIY55pkfQJQeOn0aWhJZdplLAeKUZXWXrOI6R0Sde0YN0HzB2OI6TAnx0ztD79CPY+cDegiHtOH6V7Hr7HHxV9AIXDqNLvEaNzSUIL2S+kDiuP9mN8avr7x339EfbUGPcc4DZ7/ubFIaB1Pzd9OSQ9OEhiOIyBfjgzlq4L21y/qZiySCHWlAiuQYoSP9zQ21loy0ia+FxREAGK1rjlebdZ/ubuz3ly2PM5FpeHHwIiw/S2wXTQnBLvmBl7KIHSR8Y7qQhfeRBb8rF4IJ1MfF+uVF4L4tWcg6vGmb0BsOtrz8evj66/mRXuJNyKPkplVxqYdFiRYst8SjB9160XtVPElqq+JvKDWc4RS8r2fEuP5Fa24iba/1dJvhQ0sSbmYL0kQe9ae3zyb0Xrfv/HOh/8Q59L60R181uv94+f/6xW9loP3x9JFr78PXRw9dHK1udzd1es9uP8duOaBEvIk/VYksNze/aYmNmeQf5TmQxMXg0lQrxJPZ6OXzs4f6QPdEUw9RzfHyseQPm1vHxMaYizKvcZTDv3Nvbcz9ilMbrTf0nDxpVRIWTo0Cz28f8YtGYunvRORtmUi+HD3c7KJ0JBXKiN82k71TpSFOA4CN79nG9KU7rlrLaMnvSUAvyTQGCj+z5g3HWEju7M1FbZk8gakFeKUDwkT1n8qA3zZ4K1IIRpADBR/ZMwxvejA5PzL5j1IKrTgGCj4w5jDn0VHpwhY4rk3EnqforSgGCj4wZi9/yNF5pxrjBPONuU/VXggIEHxmzEevxEfYQ44y7R9VfaQoQfGTJXu7pjDPZsnIMoWWy7CrVfRUpQPCRJVfxQSJijBCVZYep7qtFAYKPzPhpGiY7YlDMzPpJFV9dChB8ZMZbTHANudWaHMYy4xNVHEwBgo9g2iR5h8f1wmk9RISela1Oks2hdxMFwlCA4CMM1SI+w88WRGOHcFdPLW5FxK7R438UBQg+0mY3d1E3xI7Qhxim3Teq7w+jAMFHegxvdvshTjxiBYucTdNjEtVkQgGCDxNqhS1bb5+LIOamIX9ZOYYTWMO2mp4jCgAUIPgACIS53RsMH785qn3mkTVFmLzD3qDePn9VP3n85oiH+S3yGKJy6wo+wQoW2WsxLKAymVCA4CMGsl8EGS5aPNSw+/cTNcIBB9eYFq3ohxjG0D16BVEggAIEHwGEMclGBuzACx3C2jJR3TZpBZUlCqRNAYKPGCg+Ud02ggZMYVZO6TSmGPpPr/hTKUDwEZXz9fY5Bg6MytAOl6hcoedToQDBR1Qy89MJcQfEIREk9mOEovaQnicKBFCA4COAMOhsZKhBDHaIA9PoJBc07algxhQg+IjEAH7GwlIDAw1gGVa2xyvNFE5jjdRhepgo4KIAwYeLGObJV/WT6CsXLnSU7LvP9mljizkH6IksKUDwEYn6+Hg/SumDA0fRmqhuUwj1SGyghzOiAMFHeMLjD5f0YwcHjgIHjtUP39I/zzl8n+lJooCLAgQfLmIYJnmk0qUGdzP95V2qcTAValFesmCxpcb9fw5IzWFIbyqeOwoQfERlSbPbf1U/qWy0771o3Xy6N1HdHq803frU8UpzZnnn5tO9x2+Onn/s1tvnUauk54kC+aDA/wEClPrQH1pgoAAAAABJRU5ErkJggg==)"
      ],
      "metadata": {
        "id": "s-cgmULeTUs7"
      }
    },
    {
      "cell_type": "markdown",
      "source": [
        "The process of developing, deploying, and maintaining models can be complex and challenging. This is where *MLflow*, an open-source platform, comes to the rescue. *MLflow* is designed to streamline and simplify the end-to-end machine learning lifecycle, making it easier for data scientists and engineers to manage their ML projects efficiently."
      ],
      "metadata": {
        "id": "Gsry5xGFLfGa"
      }
    },
    {
      "cell_type": "code",
      "source": [
        "!pip install mlflow[extras]"
      ],
      "metadata": {
        "id": "W0QL3WbTMLx-"
      },
      "execution_count": null,
      "outputs": []
    },
    {
      "cell_type": "code",
      "source": [
        "import pandas as pd\n",
        "import mlflow\n",
        "import mlflow.sklearn\n",
        "from sklearn.model_selection import train_test_split\n",
        "from sklearn.linear_model import LogisticRegression\n",
        "from sklearn.metrics import accuracy_score, classification_report\n",
        "from pprint import pprint\n",
        "import warnings\n",
        "warnings.filterwarnings(\"ignore\")"
      ],
      "metadata": {
        "id": "yMXtdLwoM55L"
      },
      "execution_count": null,
      "outputs": []
    },
    {
      "cell_type": "markdown",
      "source": [
        "###  Load the dataset and exploration"
      ],
      "metadata": {
        "id": "cpXo8sMYQWlw"
      }
    },
    {
      "cell_type": "code",
      "source": [
        "df = pd.read_csv('diabetes.csv')"
      ],
      "metadata": {
        "id": "uicHZ0z_Nvoj"
      },
      "execution_count": null,
      "outputs": []
    },
    {
      "cell_type": "code",
      "source": [
        "df.sample(5)"
      ],
      "metadata": {
        "colab": {
          "base_uri": "https://localhost:8080/",
          "height": 226
        },
        "id": "0RdzOHwePW_J",
        "outputId": "cbdbd2a2-b4ca-4bc9-f0e5-c2799d0f5700"
      },
      "execution_count": null,
      "outputs": [
        {
          "output_type": "execute_result",
          "data": {
            "text/plain": [
              "        Id  Pregnancies  Glucose  BloodPressure  SkinThickness  Insulin   BMI  \\\n",
              "1024  1025            3      111             56             39        0  30.1   \n",
              "105    106            1      126             56             29      152  28.7   \n",
              "352    353            3       61             82             28        0  34.4   \n",
              "1278  1279           12       84             72             31        0  29.7   \n",
              "1149  1150            0      105             68             22        0  20.0   \n",
              "\n",
              "      DiabetesPedigreeFunction  Age  Outcome  \n",
              "1024                     0.557   30        0  \n",
              "105                      0.801   21        0  \n",
              "352                      0.243   46        0  \n",
              "1278                     0.297   46        1  \n",
              "1149                     0.236   22        0  "
            ],
            "text/html": [
              "\n",
              "  <div id=\"df-00c4e057-3f8b-45dc-ad6d-1c2a43582025\" class=\"colab-df-container\">\n",
              "    <div>\n",
              "<style scoped>\n",
              "    .dataframe tbody tr th:only-of-type {\n",
              "        vertical-align: middle;\n",
              "    }\n",
              "\n",
              "    .dataframe tbody tr th {\n",
              "        vertical-align: top;\n",
              "    }\n",
              "\n",
              "    .dataframe thead th {\n",
              "        text-align: right;\n",
              "    }\n",
              "</style>\n",
              "<table border=\"1\" class=\"dataframe\">\n",
              "  <thead>\n",
              "    <tr style=\"text-align: right;\">\n",
              "      <th></th>\n",
              "      <th>Id</th>\n",
              "      <th>Pregnancies</th>\n",
              "      <th>Glucose</th>\n",
              "      <th>BloodPressure</th>\n",
              "      <th>SkinThickness</th>\n",
              "      <th>Insulin</th>\n",
              "      <th>BMI</th>\n",
              "      <th>DiabetesPedigreeFunction</th>\n",
              "      <th>Age</th>\n",
              "      <th>Outcome</th>\n",
              "    </tr>\n",
              "  </thead>\n",
              "  <tbody>\n",
              "    <tr>\n",
              "      <th>1024</th>\n",
              "      <td>1025</td>\n",
              "      <td>3</td>\n",
              "      <td>111</td>\n",
              "      <td>56</td>\n",
              "      <td>39</td>\n",
              "      <td>0</td>\n",
              "      <td>30.1</td>\n",
              "      <td>0.557</td>\n",
              "      <td>30</td>\n",
              "      <td>0</td>\n",
              "    </tr>\n",
              "    <tr>\n",
              "      <th>105</th>\n",
              "      <td>106</td>\n",
              "      <td>1</td>\n",
              "      <td>126</td>\n",
              "      <td>56</td>\n",
              "      <td>29</td>\n",
              "      <td>152</td>\n",
              "      <td>28.7</td>\n",
              "      <td>0.801</td>\n",
              "      <td>21</td>\n",
              "      <td>0</td>\n",
              "    </tr>\n",
              "    <tr>\n",
              "      <th>352</th>\n",
              "      <td>353</td>\n",
              "      <td>3</td>\n",
              "      <td>61</td>\n",
              "      <td>82</td>\n",
              "      <td>28</td>\n",
              "      <td>0</td>\n",
              "      <td>34.4</td>\n",
              "      <td>0.243</td>\n",
              "      <td>46</td>\n",
              "      <td>0</td>\n",
              "    </tr>\n",
              "    <tr>\n",
              "      <th>1278</th>\n",
              "      <td>1279</td>\n",
              "      <td>12</td>\n",
              "      <td>84</td>\n",
              "      <td>72</td>\n",
              "      <td>31</td>\n",
              "      <td>0</td>\n",
              "      <td>29.7</td>\n",
              "      <td>0.297</td>\n",
              "      <td>46</td>\n",
              "      <td>1</td>\n",
              "    </tr>\n",
              "    <tr>\n",
              "      <th>1149</th>\n",
              "      <td>1150</td>\n",
              "      <td>0</td>\n",
              "      <td>105</td>\n",
              "      <td>68</td>\n",
              "      <td>22</td>\n",
              "      <td>0</td>\n",
              "      <td>20.0</td>\n",
              "      <td>0.236</td>\n",
              "      <td>22</td>\n",
              "      <td>0</td>\n",
              "    </tr>\n",
              "  </tbody>\n",
              "</table>\n",
              "</div>\n",
              "    <div class=\"colab-df-buttons\">\n",
              "\n",
              "  <div class=\"colab-df-container\">\n",
              "    <button class=\"colab-df-convert\" onclick=\"convertToInteractive('df-00c4e057-3f8b-45dc-ad6d-1c2a43582025')\"\n",
              "            title=\"Convert this dataframe to an interactive table.\"\n",
              "            style=\"display:none;\">\n",
              "\n",
              "  <svg xmlns=\"http://www.w3.org/2000/svg\" height=\"24px\" viewBox=\"0 -960 960 960\">\n",
              "    <path d=\"M120-120v-720h720v720H120Zm60-500h600v-160H180v160Zm220 220h160v-160H400v160Zm0 220h160v-160H400v160ZM180-400h160v-160H180v160Zm440 0h160v-160H620v160ZM180-180h160v-160H180v160Zm440 0h160v-160H620v160Z\"/>\n",
              "  </svg>\n",
              "    </button>\n",
              "\n",
              "  <style>\n",
              "    .colab-df-container {\n",
              "      display:flex;\n",
              "      gap: 12px;\n",
              "    }\n",
              "\n",
              "    .colab-df-convert {\n",
              "      background-color: #E8F0FE;\n",
              "      border: none;\n",
              "      border-radius: 50%;\n",
              "      cursor: pointer;\n",
              "      display: none;\n",
              "      fill: #1967D2;\n",
              "      height: 32px;\n",
              "      padding: 0 0 0 0;\n",
              "      width: 32px;\n",
              "    }\n",
              "\n",
              "    .colab-df-convert:hover {\n",
              "      background-color: #E2EBFA;\n",
              "      box-shadow: 0px 1px 2px rgba(60, 64, 67, 0.3), 0px 1px 3px 1px rgba(60, 64, 67, 0.15);\n",
              "      fill: #174EA6;\n",
              "    }\n",
              "\n",
              "    .colab-df-buttons div {\n",
              "      margin-bottom: 4px;\n",
              "    }\n",
              "\n",
              "    [theme=dark] .colab-df-convert {\n",
              "      background-color: #3B4455;\n",
              "      fill: #D2E3FC;\n",
              "    }\n",
              "\n",
              "    [theme=dark] .colab-df-convert:hover {\n",
              "      background-color: #434B5C;\n",
              "      box-shadow: 0px 1px 3px 1px rgba(0, 0, 0, 0.15);\n",
              "      filter: drop-shadow(0px 1px 2px rgba(0, 0, 0, 0.3));\n",
              "      fill: #FFFFFF;\n",
              "    }\n",
              "  </style>\n",
              "\n",
              "    <script>\n",
              "      const buttonEl =\n",
              "        document.querySelector('#df-00c4e057-3f8b-45dc-ad6d-1c2a43582025 button.colab-df-convert');\n",
              "      buttonEl.style.display =\n",
              "        google.colab.kernel.accessAllowed ? 'block' : 'none';\n",
              "\n",
              "      async function convertToInteractive(key) {\n",
              "        const element = document.querySelector('#df-00c4e057-3f8b-45dc-ad6d-1c2a43582025');\n",
              "        const dataTable =\n",
              "          await google.colab.kernel.invokeFunction('convertToInteractive',\n",
              "                                                    [key], {});\n",
              "        if (!dataTable) return;\n",
              "\n",
              "        const docLinkHtml = 'Like what you see? Visit the ' +\n",
              "          '<a target=\"_blank\" href=https://colab.research.google.com/notebooks/data_table.ipynb>data table notebook</a>'\n",
              "          + ' to learn more about interactive tables.';\n",
              "        element.innerHTML = '';\n",
              "        dataTable['output_type'] = 'display_data';\n",
              "        await google.colab.output.renderOutput(dataTable, element);\n",
              "        const docLink = document.createElement('div');\n",
              "        docLink.innerHTML = docLinkHtml;\n",
              "        element.appendChild(docLink);\n",
              "      }\n",
              "    </script>\n",
              "  </div>\n",
              "\n",
              "\n",
              "<div id=\"df-2cd09a37-f912-4cbb-a010-ecb70c43a05e\">\n",
              "  <button class=\"colab-df-quickchart\" onclick=\"quickchart('df-2cd09a37-f912-4cbb-a010-ecb70c43a05e')\"\n",
              "            title=\"Suggest charts.\"\n",
              "            style=\"display:none;\">\n",
              "\n",
              "<svg xmlns=\"http://www.w3.org/2000/svg\" height=\"24px\"viewBox=\"0 0 24 24\"\n",
              "     width=\"24px\">\n",
              "    <g>\n",
              "        <path d=\"M19 3H5c-1.1 0-2 .9-2 2v14c0 1.1.9 2 2 2h14c1.1 0 2-.9 2-2V5c0-1.1-.9-2-2-2zM9 17H7v-7h2v7zm4 0h-2V7h2v10zm4 0h-2v-4h2v4z\"/>\n",
              "    </g>\n",
              "</svg>\n",
              "  </button>\n",
              "\n",
              "<style>\n",
              "  .colab-df-quickchart {\n",
              "      --bg-color: #E8F0FE;\n",
              "      --fill-color: #1967D2;\n",
              "      --hover-bg-color: #E2EBFA;\n",
              "      --hover-fill-color: #174EA6;\n",
              "      --disabled-fill-color: #AAA;\n",
              "      --disabled-bg-color: #DDD;\n",
              "  }\n",
              "\n",
              "  [theme=dark] .colab-df-quickchart {\n",
              "      --bg-color: #3B4455;\n",
              "      --fill-color: #D2E3FC;\n",
              "      --hover-bg-color: #434B5C;\n",
              "      --hover-fill-color: #FFFFFF;\n",
              "      --disabled-bg-color: #3B4455;\n",
              "      --disabled-fill-color: #666;\n",
              "  }\n",
              "\n",
              "  .colab-df-quickchart {\n",
              "    background-color: var(--bg-color);\n",
              "    border: none;\n",
              "    border-radius: 50%;\n",
              "    cursor: pointer;\n",
              "    display: none;\n",
              "    fill: var(--fill-color);\n",
              "    height: 32px;\n",
              "    padding: 0;\n",
              "    width: 32px;\n",
              "  }\n",
              "\n",
              "  .colab-df-quickchart:hover {\n",
              "    background-color: var(--hover-bg-color);\n",
              "    box-shadow: 0 1px 2px rgba(60, 64, 67, 0.3), 0 1px 3px 1px rgba(60, 64, 67, 0.15);\n",
              "    fill: var(--button-hover-fill-color);\n",
              "  }\n",
              "\n",
              "  .colab-df-quickchart-complete:disabled,\n",
              "  .colab-df-quickchart-complete:disabled:hover {\n",
              "    background-color: var(--disabled-bg-color);\n",
              "    fill: var(--disabled-fill-color);\n",
              "    box-shadow: none;\n",
              "  }\n",
              "\n",
              "  .colab-df-spinner {\n",
              "    border: 2px solid var(--fill-color);\n",
              "    border-color: transparent;\n",
              "    border-bottom-color: var(--fill-color);\n",
              "    animation:\n",
              "      spin 1s steps(1) infinite;\n",
              "  }\n",
              "\n",
              "  @keyframes spin {\n",
              "    0% {\n",
              "      border-color: transparent;\n",
              "      border-bottom-color: var(--fill-color);\n",
              "      border-left-color: var(--fill-color);\n",
              "    }\n",
              "    20% {\n",
              "      border-color: transparent;\n",
              "      border-left-color: var(--fill-color);\n",
              "      border-top-color: var(--fill-color);\n",
              "    }\n",
              "    30% {\n",
              "      border-color: transparent;\n",
              "      border-left-color: var(--fill-color);\n",
              "      border-top-color: var(--fill-color);\n",
              "      border-right-color: var(--fill-color);\n",
              "    }\n",
              "    40% {\n",
              "      border-color: transparent;\n",
              "      border-right-color: var(--fill-color);\n",
              "      border-top-color: var(--fill-color);\n",
              "    }\n",
              "    60% {\n",
              "      border-color: transparent;\n",
              "      border-right-color: var(--fill-color);\n",
              "    }\n",
              "    80% {\n",
              "      border-color: transparent;\n",
              "      border-right-color: var(--fill-color);\n",
              "      border-bottom-color: var(--fill-color);\n",
              "    }\n",
              "    90% {\n",
              "      border-color: transparent;\n",
              "      border-bottom-color: var(--fill-color);\n",
              "    }\n",
              "  }\n",
              "</style>\n",
              "\n",
              "  <script>\n",
              "    async function quickchart(key) {\n",
              "      const quickchartButtonEl =\n",
              "        document.querySelector('#' + key + ' button');\n",
              "      quickchartButtonEl.disabled = true;  // To prevent multiple clicks.\n",
              "      quickchartButtonEl.classList.add('colab-df-spinner');\n",
              "      try {\n",
              "        const charts = await google.colab.kernel.invokeFunction(\n",
              "            'suggestCharts', [key], {});\n",
              "      } catch (error) {\n",
              "        console.error('Error during call to suggestCharts:', error);\n",
              "      }\n",
              "      quickchartButtonEl.classList.remove('colab-df-spinner');\n",
              "      quickchartButtonEl.classList.add('colab-df-quickchart-complete');\n",
              "    }\n",
              "    (() => {\n",
              "      let quickchartButtonEl =\n",
              "        document.querySelector('#df-2cd09a37-f912-4cbb-a010-ecb70c43a05e button');\n",
              "      quickchartButtonEl.style.display =\n",
              "        google.colab.kernel.accessAllowed ? 'block' : 'none';\n",
              "    })();\n",
              "  </script>\n",
              "</div>\n",
              "    </div>\n",
              "  </div>\n"
            ]
          },
          "metadata": {},
          "execution_count": 30
        }
      ]
    },
    {
      "cell_type": "code",
      "source": [
        "# Separate features (X) and target variable, Outcome (y).\n",
        "\n",
        "X = df.drop(columns=['Outcome'])\n",
        "y = df['Outcome']\n"
      ],
      "metadata": {
        "id": "w_dBsKHiN9aj"
      },
      "execution_count": null,
      "outputs": []
    },
    {
      "cell_type": "code",
      "source": [
        "# Split data into training and testing sets\n",
        "\n",
        "X_train, X_test, y_train, y_test = train_test_split(X, y, test_size=0.2, random_state=42)"
      ],
      "metadata": {
        "id": "TvJhxD9sOBIl"
      },
      "execution_count": null,
      "outputs": []
    },
    {
      "cell_type": "markdown",
      "source": [
        "### 3. MLflow"
      ],
      "metadata": {
        "id": "oDQjtZ6FQ1hm"
      }
    },
    {
      "cell_type": "code",
      "source": [
        "mlflow.sklearn.autolog()"
      ],
      "metadata": {
        "id": "-RPy6Z96QYMB"
      },
      "execution_count": null,
      "outputs": []
    },
    {
      "cell_type": "markdown",
      "source": [
        "The *mlflow.sklearn.autolog()* function is a utility provided by MLflow to automatically log scikit-learn model parameters and metrics during your machine learning experiments. It simplifies the process of tracking machine learning runs, making it easier to capture key information about your models and their performance."
      ],
      "metadata": {
        "id": "BBn6mcAZQ-Km"
      }
    },
    {
      "cell_type": "markdown",
      "source": [
        "Now we are going to build a simple Logistic Regression model to test out the MLflow tracking"
      ],
      "metadata": {
        "id": "CvE73hNgRRC_"
      }
    },
    {
      "cell_type": "code",
      "source": [
        "# Build and train a logistic regression model and start an MLflow run\n",
        "\n",
        "with mlflow.start_run() as run:\n",
        "\n",
        "    # Create and train a logistic regression model\n",
        "    logistic_model = LogisticRegression(random_state=42)\n",
        "    logistic_model.fit(X_train, y_train)\n",
        "\n",
        "    # Make predictions on the test set\n",
        "    y_pred = logistic_model.predict(X_test)\n",
        "\n",
        "    # Evaluate the model's performance\n",
        "    accuracy = accuracy_score(y_test, y_pred)\n",
        "    report = classification_report(y_test, y_pred)\n",
        "\n",
        "    print(f\"Accuracy: {accuracy:.2f}\")\n",
        "    print(\"Classification Report:\\n\", report)\n"
      ],
      "metadata": {
        "id": "usqiSYwDOCrS",
        "colab": {
          "base_uri": "https://localhost:8080/"
        },
        "outputId": "c06b62dd-89a1-4656-b046-b6fda9c347e9"
      },
      "execution_count": null,
      "outputs": [
        {
          "output_type": "stream",
          "name": "stdout",
          "text": [
            "Accuracy: 0.68\n",
            "Classification Report:\n",
            "               precision    recall  f1-score   support\n",
            "\n",
            "           0       0.73      0.83      0.77       367\n",
            "           1       0.53      0.39      0.45       187\n",
            "\n",
            "    accuracy                           0.68       554\n",
            "   macro avg       0.63      0.61      0.61       554\n",
            "weighted avg       0.66      0.68      0.66       554\n",
            "\n"
          ]
        }
      ]
    },
    {
      "cell_type": "code",
      "source": [
        "def yield_artifacts(run_id, path=None):\n",
        "    \"\"\"Yield all artifacts in the specified run\"\"\"\n",
        "    client = mlflow.tracking.MlflowClient()\n",
        "    for item in client.list_artifacts(run_id, path):\n",
        "        if item.is_dir:\n",
        "            yield from yield_artifacts(run_id, item.path)\n",
        "        else:\n",
        "            yield item.path"
      ],
      "metadata": {
        "id": "kJJ9Vm1mOiik"
      },
      "execution_count": null,
      "outputs": []
    },
    {
      "cell_type": "markdown",
      "source": [
        "The yield_artifacts function is a Python generator function that yields all artifacts (files and directories) associated with a specific MLflow run, specified by its run_id. It recursively traverses the directory structure of the run's artifacts."
      ],
      "metadata": {
        "id": "MsSrdeESQQKz"
      }
    },
    {
      "cell_type": "markdown",
      "source": [
        "The *yield_artifacts* generator function has two parameters:\n",
        "1. run_id: The unique identifier of the MLflow run for which you want to retrieve artifacts\n",
        "2. path (optional): The subdirectory path within the run's artifacts directory. This allows you to specify a specific subdirectory to start the traversal from. If not provided, the traversal starts from the root of the artifacts directory.\n",
        "\n",
        "Then we create an instance of the MLflow tracking client and we are using a for loop to iterate over all the files\n"
      ],
      "metadata": {
        "id": "yjv5GURfQc5r"
      }
    },
    {
      "cell_type": "code",
      "source": [
        "def fetch_logged_data(run_id):\n",
        "    \"\"\"Fetch params, metrics, tags, and artifacts in the specified run\"\"\"\n",
        "    client = mlflow.tracking.MlflowClient()\n",
        "    data = client.get_run(run_id).data\n",
        "\n",
        "    tags = {k: v for k, v in data.tags.items() if not k.startswith(\"mlflow.\")}\n",
        "    artifacts = list(yield_artifacts(run_id))\n",
        "    return {\n",
        "        \"params\": data.params,\n",
        "        \"metrics\": data.metrics,\n",
        "        \"tags\": tags,\n",
        "        \"artifacts\": artifacts,\n",
        "    }"
      ],
      "metadata": {
        "id": "Vp2lWaWHQsIy"
      },
      "execution_count": null,
      "outputs": []
    },
    {
      "cell_type": "markdown",
      "source": [
        "The *fetch_logged_data* function retrieves various types of logged data associated with a specific MLflow run, specified by its run_id. It fetches and organizes information.\n",
        "\n",
        "1. Parameters (params): Parameters used during the run, which typically include hyperparameters and model configuration settings.\n",
        "\n",
        "2. Metrics (metrics): Performance metrics logged during the run, such as accuracy, precision, recall, and others.\n",
        "\n",
        "3. Tags (tags): Custom tags and metadata associated with the run. It excludes tags that start with \"mlflow.\", which are MLflow-specific tags.\n",
        "\n",
        "4. Artifacts (artifacts): Paths to artifacts (files and directories) associated with the run. These artifacts can include saved models, data files, visualizations, and more.\n"
      ],
      "metadata": {
        "id": "6umX3B8kRMzK"
      }
    },
    {
      "cell_type": "markdown",
      "source": [
        "Now let's print out this info!"
      ],
      "metadata": {
        "id": "tAa_pKgQRf7x"
      }
    },
    {
      "cell_type": "code",
      "source": [
        "for key, data in fetch_logged_data(run.info.run_id).items():\n",
        "    print(\"\\n---------- logged {} ----------\".format(key))\n",
        "    pprint(data)"
      ],
      "metadata": {
        "colab": {
          "base_uri": "https://localhost:8080/"
        },
        "id": "ncRYHtwaOmh3",
        "outputId": "197ad4cb-4a4b-4fcb-cdc9-b415d513b8b7"
      },
      "execution_count": null,
      "outputs": [
        {
          "output_type": "stream",
          "name": "stdout",
          "text": [
            "\n",
            "---------- logged params ----------\n",
            "{'C': '1.0',\n",
            " 'class_weight': 'None',\n",
            " 'dual': 'False',\n",
            " 'fit_intercept': 'True',\n",
            " 'intercept_scaling': '1',\n",
            " 'l1_ratio': 'None',\n",
            " 'max_iter': '100',\n",
            " 'multi_class': 'auto',\n",
            " 'n_jobs': 'None',\n",
            " 'penalty': 'l2',\n",
            " 'random_state': '42',\n",
            " 'solver': 'lbfgs',\n",
            " 'tol': '0.0001',\n",
            " 'verbose': '0',\n",
            " 'warm_start': 'False'}\n",
            "\n",
            "---------- logged metrics ----------\n",
            "{'accuracy_score_X_test': 0.6787003610108303,\n",
            " 'training_accuracy_score': 0.7005420054200542,\n",
            " 'training_f1_score': 0.6840432777484518,\n",
            " 'training_log_loss': 0.5947876392739674,\n",
            " 'training_precision_score': 0.6858233566413535,\n",
            " 'training_recall_score': 0.7005420054200542,\n",
            " 'training_roc_auc': 0.6979832834905298,\n",
            " 'training_score': 0.7005420054200542}\n",
            "\n",
            "---------- logged tags ----------\n",
            "{'estimator_class': 'sklearn.linear_model._logistic.LogisticRegression',\n",
            " 'estimator_name': 'LogisticRegression'}\n",
            "\n",
            "---------- logged artifacts ----------\n",
            "['estimator.html',\n",
            " 'metric_info.json',\n",
            " 'model/MLmodel',\n",
            " 'model/conda.yaml',\n",
            " 'model/model.pkl',\n",
            " 'model/python_env.yaml',\n",
            " 'model/requirements.txt',\n",
            " 'training_confusion_matrix.png',\n",
            " 'training_precision_recall_curve.png',\n",
            " 'training_roc_curve.png']\n"
          ]
        }
      ]
    },
    {
      "cell_type": "markdown",
      "source": [
        "Check out the generated files in your environment."
      ],
      "metadata": {
        "id": "O56reGMzR1Y8"
      }
    },
    {
      "cell_type": "code",
      "source": [
        "# End the MLflow run\n",
        "mlflow.end_run()"
      ],
      "metadata": {
        "id": "AbYQ0AdFPvn8"
      },
      "execution_count": null,
      "outputs": []
    },
    {
      "cell_type": "markdown",
      "source": [
        "By calling mlflow.end_run(), you finalize the current run, and MLflow stops recording information associated with that run. This makes it possible to start a new run with a clean context for a different experiment or iteration."
      ],
      "metadata": {
        "id": "MtitEnxJR7Uz"
      }
    },
    {
      "cell_type": "markdown",
      "source": [
        "## MLflow GUI"
      ],
      "metadata": {
        "id": "XgXCAgILG0JF"
      }
    },
    {
      "cell_type": "markdown",
      "source": [
        "Run the following command in your command line terminal to view the MLflow GUI:\n",
        "\n",
        "\n",
        "\n",
        "> mlflow ui\n",
        "\n"
      ],
      "metadata": {
        "id": "peOqkBiMG36u"
      }
    },
    {
      "cell_type": "markdown",
      "source": [
        "## Exercises:"
      ],
      "metadata": {
        "id": "b1YdVcpKR-wd"
      }
    },
    {
      "cell_type": "markdown",
      "source": [
        "* Start the MLflow UI to view your runs and experiments\n",
        "\n",
        "* Extend this exercise to log multiple runs of the same model with different hyperparameters. Use MLflow's tracking UI to compare results.\n",
        "\n",
        "* Train a simple Keras neural network on a dataset, then modify the architecture and log it as a new version using MLflow.\n",
        "\n",
        "* Experiment with integrating other machine learning libraries and frameworks with scikit-learn and Keras within MLflow.\n",
        "\n",
        "* Implement hyperparameter tuning (Grid search, Randomized search).\n",
        "\n",
        "* Use Git to add your finished notebook to your repo.\n",
        "\n"
      ],
      "metadata": {
        "id": "jM9li43nS82g"
      }
    }
  ]
}