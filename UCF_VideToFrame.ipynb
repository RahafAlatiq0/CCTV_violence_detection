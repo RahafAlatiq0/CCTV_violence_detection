{
  "nbformat": 4,
  "nbformat_minor": 0,
  "metadata": {
    "colab": {
      "provenance": [],
      "authorship_tag": "ABX9TyMwx5Xwwb8CP2RTG5oJENRt",
      "include_colab_link": true
    },
    "kernelspec": {
      "name": "python3",
      "display_name": "Python 3"
    },
    "language_info": {
      "name": "python"
    }
  },
  "cells": [
    {
      "cell_type": "markdown",
      "metadata": {
        "id": "view-in-github",
        "colab_type": "text"
      },
      "source": [
        "<a href=\"https://colab.research.google.com/github/RahafAlatiq0/CCTV_violence_detection/blob/main/UCF_VideToFrame.ipynb\" target=\"_parent\"><img src=\"https://colab.research.google.com/assets/colab-badge.svg\" alt=\"Open In Colab\"/></a>"
      ]
    },
    {
      "cell_type": "code",
      "execution_count": 1,
      "metadata": {
        "colab": {
          "base_uri": "https://localhost:8080/"
        },
        "id": "uo5012KEtuEK",
        "outputId": "c6b27590-7b4d-4a48-d1d6-fa0dd80a2837"
      },
      "outputs": [
        {
          "output_type": "stream",
          "name": "stdout",
          "text": [
            "Requirement already satisfied: kaggle in /usr/local/lib/python3.10/dist-packages (1.5.16)\n",
            "Requirement already satisfied: six>=1.10 in /usr/local/lib/python3.10/dist-packages (from kaggle) (1.16.0)\n",
            "Requirement already satisfied: certifi in /usr/local/lib/python3.10/dist-packages (from kaggle) (2023.7.22)\n",
            "Requirement already satisfied: python-dateutil in /usr/local/lib/python3.10/dist-packages (from kaggle) (2.8.2)\n",
            "Requirement already satisfied: requests in /usr/local/lib/python3.10/dist-packages (from kaggle) (2.31.0)\n",
            "Requirement already satisfied: tqdm in /usr/local/lib/python3.10/dist-packages (from kaggle) (4.66.1)\n",
            "Requirement already satisfied: python-slugify in /usr/local/lib/python3.10/dist-packages (from kaggle) (8.0.1)\n",
            "Requirement already satisfied: urllib3 in /usr/local/lib/python3.10/dist-packages (from kaggle) (2.0.4)\n",
            "Requirement already satisfied: bleach in /usr/local/lib/python3.10/dist-packages (from kaggle) (6.0.0)\n",
            "Requirement already satisfied: webencodings in /usr/local/lib/python3.10/dist-packages (from bleach->kaggle) (0.5.1)\n",
            "Requirement already satisfied: text-unidecode>=1.3 in /usr/local/lib/python3.10/dist-packages (from python-slugify->kaggle) (1.3)\n",
            "Requirement already satisfied: charset-normalizer<4,>=2 in /usr/local/lib/python3.10/dist-packages (from requests->kaggle) (3.2.0)\n",
            "Requirement already satisfied: idna<4,>=2.5 in /usr/local/lib/python3.10/dist-packages (from requests->kaggle) (3.4)\n"
          ]
        }
      ],
      "source": [
        "!pip install kaggle"
      ]
    },
    {
      "cell_type": "code",
      "source": [
        "import os\n",
        "os.environ[\"KAGGLE_USERNAME\"] = \"rahaf8\"\n",
        "os.environ[\"KAGGLE_KEY\"] = \"f59b8cb26f2973bc6fb4c52b1516ac19\"\n",
        "import kaggle"
      ],
      "metadata": {
        "id": "4mPSj5wOudBm"
      },
      "execution_count": 2,
      "outputs": []
    },
    {
      "cell_type": "code",
      "source": [
        "# Specify the dataset you want to download\n",
        "dataset_slug = 'avijitpaulavi/ucf-crime-trimmed'\n",
        "\n",
        "# Set the output directory where the dataset will be downloaded\n",
        "output_dir = './ucf-crime-trimmed'\n",
        "\n",
        "# Use the Kaggle API to download the dataset\n",
        "kaggle.api.dataset_download_files(dataset_slug, path=output_dir, unzip=True)"
      ],
      "metadata": {
        "id": "RzIZWtAZuSoT"
      },
      "execution_count": 3,
      "outputs": []
    },
    {
      "cell_type": "code",
      "source": [
        "directory = '/content/ucf-crime-trimmed/Anomaly_Dataset/Anomaly_Videos/Normal-Videos-Part-1'\n",
        "\n",
        "# Get the list of files in the directory\n",
        "file_list = os.listdir(directory)\n",
        "\n",
        "# Filter the files to include only video files (e.g., .mp4, .avi, etc.)\n",
        "video_files = [file for file in file_list if file.endswith(('.mp4'))]\n",
        "\n",
        "# Get the count of video files\n",
        "video_files.sort()\n",
        "video_count = len(video_files)\n",
        "\n",
        "print(\"Number of videos:\", video_count)"
      ],
      "metadata": {
        "colab": {
          "base_uri": "https://localhost:8080/"
        },
        "id": "mA7EdsSquTTY",
        "outputId": "654cc606-bbdc-42ef-c65a-10293542c548"
      },
      "execution_count": 4,
      "outputs": [
        {
          "output_type": "stream",
          "name": "stdout",
          "text": [
            "Number of videos: 120\n"
          ]
        }
      ]
    },
    {
      "cell_type": "code",
      "source": [
        "import cv2\n",
        "import os\n",
        "\n",
        "video_directory = '/content/ucf-crime-trimmed/Anomaly_Dataset/Anomaly_Videos/Normal-Videos-Part-1'\n",
        "output_directory = '/content/normal'\n",
        "frames_per_video = 21\n",
        "\n",
        "# Create the output directory if it doesn't exist\n",
        "os.makedirs(output_directory, exist_ok=True)\n",
        "\n",
        "# Get a list of video files in the directory\n",
        "video_files = [file for file in os.listdir(video_directory) if file.endswith(('.mp4'))]\n",
        "\n",
        "# Iterate over the video files\n",
        "for video_file in video_files[:52]:\n",
        "    video_path = os.path.join(video_directory, video_file)\n",
        "\n",
        "    # Extract the video name without the extension\n",
        "    video_name = os.path.splitext(video_file)[0]\n",
        "\n",
        "    # Open the video file\n",
        "    video_capture = cv2.VideoCapture(video_path)\n",
        "\n",
        "    # Get the total number of frames in the video\n",
        "    total_frames = int(video_capture.get(cv2.CAP_PROP_FRAME_COUNT))\n",
        "\n",
        "    # Calculate the frame interval to capture\n",
        "    frame_interval = max(total_frames // frames_per_video, 1)\n",
        "\n",
        "    frame_count = 0\n",
        "    frame_number = 0\n",
        "\n",
        "    # Iterate over the frames and capture the desired ones\n",
        "    while frame_count < total_frames and frame_number < frames_per_video:\n",
        "        # Read the next frame\n",
        "        ret, frame = video_capture.read()\n",
        "\n",
        "        if not ret:\n",
        "            break\n",
        "\n",
        "        frame_count += 1\n",
        "\n",
        "        # Capture frames at the specified interval\n",
        "        if frame_count % frame_interval == 0:\n",
        "            frame_output_path = os.path.join(output_directory, f\"{video_name}_{frame_number}.jpg\")\n",
        "\n",
        "            # Save the frame as an image\n",
        "            cv2.imwrite(frame_output_path, frame)\n",
        "\n",
        "            frame_number += 1\n",
        "\n",
        "    # Release the video capture object\n",
        "    video_capture.release()\n",
        "    print(f\"Frames extracted from video '{video_file}'\")\n",
        "\n",
        "print(\"Frame extraction completed.\")"
      ],
      "metadata": {
        "colab": {
          "base_uri": "https://localhost:8080/"
        },
        "id": "zS2d4lHxvGQM",
        "outputId": "bc3468fd-3e00-42b5-befc-84019955e3f2"
      },
      "execution_count": 5,
      "outputs": [
        {
          "output_type": "stream",
          "name": "stdout",
          "text": [
            "Frames extracted from video 'Normal_Videos_873_x264.mp4'\n",
            "Frames extracted from video 'Normal_Videos_641_x264.mp4'\n",
            "Frames extracted from video 'Normal_Videos_247_x264.mp4'\n",
            "Frames extracted from video 'Normal_Videos_010_x264.mp4'\n",
            "Frames extracted from video 'Normal_Videos_070_x264.mp4'\n",
            "Frames extracted from video 'Normal_Videos_024_x264.mp4'\n",
            "Frames extracted from video 'Normal_Videos_887_x264.mp4'\n",
            "Frames extracted from video 'Normal_Videos_006_x264.mp4'\n",
            "Frames extracted from video 'Normal_Videos_041_x264.mp4'\n",
            "Frames extracted from video 'Normal_Videos_907_x264.mp4'\n",
            "Frames extracted from video 'Normal_Videos_828_x264.mp4'\n",
            "Frames extracted from video 'Normal_Videos_686_x264.mp4'\n",
            "Frames extracted from video 'Normal_Videos_067_x264.mp4'\n",
            "Frames extracted from video 'Normal_Videos_018_x264.mp4'\n",
            "Frames extracted from video 'Normal_Videos_003_x264.mp4'\n",
            "Frames extracted from video 'Normal_Videos_150_x264.mp4'\n",
            "Frames extracted from video 'Normal_Videos_885_x264.mp4'\n",
            "Frames extracted from video 'Normal_Videos_904_x264.mp4'\n",
            "Frames extracted from video 'Normal_Videos_900_x264.mp4'\n",
            "Frames extracted from video 'Normal_Videos_899_x264.mp4'\n",
            "Frames extracted from video 'Normal_Videos_401_x264.mp4'\n",
            "Frames extracted from video 'Normal_Videos_831_x264.mp4'\n",
            "Frames extracted from video 'Normal_Videos_883_x264.mp4'\n",
            "Frames extracted from video 'Normal_Videos_317_x264.mp4'\n",
            "Frames extracted from video 'Normal_Videos_360_x264.mp4'\n",
            "Frames extracted from video 'Normal_Videos_894_x264.mp4'\n",
            "Frames extracted from video 'Normal_Videos_882_x264.mp4'\n",
            "Frames extracted from video 'Normal_Videos_896_x264.mp4'\n",
            "Frames extracted from video 'Normal_Videos_879_x264.mp4'\n",
            "Frames extracted from video 'Normal_Videos_182_x264.mp4'\n",
            "Frames extracted from video 'Normal_Videos_877_x264.mp4'\n",
            "Frames extracted from video 'Normal_Videos_034_x264.mp4'\n",
            "Frames extracted from video 'Normal_Videos_603_x264.mp4'\n",
            "Frames extracted from video 'Normal_Videos_352_x264.mp4'\n",
            "Frames extracted from video 'Normal_Videos_868_x264.mp4'\n",
            "Frames extracted from video 'Normal_Videos_908_x264.mp4'\n",
            "Frames extracted from video 'Normal_Videos_710_x264.mp4'\n",
            "Frames extracted from video 'Normal_Videos_345_x264.mp4'\n",
            "Frames extracted from video 'Normal_Videos_224_x264.mp4'\n",
            "Frames extracted from video 'Normal_Videos_891_x264_2.mp4'\n",
            "Frames extracted from video 'Normal_Videos_576_x264.mp4'\n",
            "Frames extracted from video 'Normal_Videos_203_x264.mp4'\n",
            "Frames extracted from video 'Normal_Videos_365_x264.mp4'\n",
            "Frames extracted from video 'Normal_Videos_876_x264.mp4'\n",
            "Frames extracted from video 'Normal_Videos_621_x264.mp4'\n",
            "Frames extracted from video 'Normal_Videos_906_x264.mp4'\n",
            "Frames extracted from video 'Normal_Videos_014_x264.mp4'\n",
            "Frames extracted from video 'Normal_Videos_704_x264.mp4'\n",
            "Frames extracted from video 'Normal_Videos_606_x264.mp4'\n",
            "Frames extracted from video 'Normal_Videos_033_x264.mp4'\n",
            "Frames extracted from video 'Normal_Videos_027_x264.mp4'\n",
            "Frames extracted from video 'Normal_Videos_063_x264.mp4'\n",
            "Frame extraction completed.\n"
          ]
        }
      ]
    },
    {
      "cell_type": "code",
      "source": [
        "import zipfile\n",
        "import os\n",
        "\n",
        "folder_to_zip = '/content/normal'\n",
        "output_zipfile = '/content/normal.zip'\n",
        "\n",
        "# Create a ZipFile object with the desired output filename\n",
        "with zipfile.ZipFile(output_zipfile, 'w', zipfile.ZIP_DEFLATED) as zipf:\n",
        "    # Iterate over the files in the folder and add them to the zip file\n",
        "    for root, _, files in os.walk(folder_to_zip):\n",
        "        for file in files:\n",
        "            file_path = os.path.join(root, file)\n",
        "            arcname = os.path.relpath(file_path, folder_to_zip)\n",
        "            zipf.write(file_path, arcname)\n",
        "\n",
        "print(f\"Folder '{folder_to_zip}' has been zipped to '{output_zipfile}'\")"
      ],
      "metadata": {
        "colab": {
          "base_uri": "https://localhost:8080/"
        },
        "id": "giAK2PSC0tAe",
        "outputId": "61700402-34d7-4fba-c94d-7d52c01b47f8"
      },
      "execution_count": 6,
      "outputs": [
        {
          "output_type": "stream",
          "name": "stdout",
          "text": [
            "Folder '/content/normal' has been zipped to '/content/normal.zip'\n"
          ]
        }
      ]
    }
  ]
}