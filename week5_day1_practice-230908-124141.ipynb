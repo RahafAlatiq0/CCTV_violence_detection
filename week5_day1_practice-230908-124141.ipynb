{
  "cells": [
    {
      "cell_type": "markdown",
      "metadata": {},
      "source": [
        "# A. Set up Git and GitHub\n",
        "\n",
        "- Install Git\n",
        "- Create a GitHub account\n",
        "- Create a new repository on GitHub\n"
      ]
    },
    {
      "cell_type": "markdown",
      "metadata": {},
      "source": [
        "# B. Create a Virtual Environment in Python locally"
      ]
    },
    {
      "cell_type": "markdown",
      "metadata": {},
      "source": [
        "# C. Install Pandas, Sklearn and Jupyter in the Virtual Environment"
      ]
    },
    {
      "cell_type": "markdown",
      "metadata": {},
      "source": [
        "# D. Start putting your Git skills to use"
      ]
    },
    {
      "cell_type": "markdown",
      "metadata": {},
      "source": [
        "# E. Undergo the following Regression exercise"
      ]
    },
    {
      "cell_type": "markdown",
      "metadata": {
        "id": "MR5zkwPvwyjS"
      },
      "source": [
        "## 1. Basic data exploration"
      ]
    },
    {
      "cell_type": "markdown",
      "metadata": {
        "id": "I70-sr6Px3Wd"
      },
      "source": [
        "Given the dataset below (df), perform the following:"
      ]
    },
    {
      "cell_type": "code",
      "execution_count": 22,
      "metadata": {
        "id": "lZkdhrCcwdVl"
      },
      "outputs": [],
      "source": [
        "import pandas as pd\n",
        "df= pd.read_csv('hotel_bookings.csv')"
      ]
    },
    {
      "cell_type": "markdown",
      "metadata": {
        "id": "1PFM8BxCx8ML"
      },
      "source": [
        "Q1) Print out a random sample of 10 rows from the dataset"
      ]
    },
    {
      "cell_type": "code",
      "execution_count": 22,
      "metadata": {
        "id": "e0wjSCWKySK_"
      },
      "outputs": [],
      "source": []
    },
    {
      "cell_type": "markdown",
      "metadata": {
        "id": "x0Kvd7eWw0du"
      },
      "source": [
        "Q2) Display information on the dataset:\n"
      ]
    },
    {
      "cell_type": "code",
      "execution_count": 22,
      "metadata": {
        "id": "Hus4QEqP6POs"
      },
      "outputs": [],
      "source": []
    },
    {
      "cell_type": "markdown",
      "metadata": {
        "id": "XX7CjXbVyFr9"
      },
      "source": [
        "Q3) Display the dataset columns"
      ]
    },
    {
      "cell_type": "code",
      "execution_count": 22,
      "metadata": {
        "id": "_54prKmpw7m9"
      },
      "outputs": [],
      "source": []
    },
    {
      "cell_type": "markdown",
      "metadata": {
        "id": "vHPkrLgsyGRi"
      },
      "source": [
        "Q4) Display statistical info of the the numeric columns in the dataset"
      ]
    },
    {
      "cell_type": "code",
      "execution_count": 22,
      "metadata": {
        "id": "lACeDTZXxAcD"
      },
      "outputs": [],
      "source": []
    },
    {
      "cell_type": "markdown",
      "metadata": {
        "id": "VBc4R4Kj0xeJ"
      },
      "source": [
        "Q5) Count the number of unique hotels in the dataset"
      ]
    },
    {
      "cell_type": "code",
      "execution_count": 22,
      "metadata": {
        "id": "IvYevY-N01p8"
      },
      "outputs": [],
      "source": []
    },
    {
      "cell_type": "markdown",
      "metadata": {
        "id": "FnVZ-Lo601Pq"
      },
      "source": [
        "Q6) Identify the most popular country of origin for guests"
      ]
    },
    {
      "cell_type": "code",
      "execution_count": 22,
      "metadata": {
        "id": "CdhGsv8608LI"
      },
      "outputs": [],
      "source": []
    },
    {
      "cell_type": "markdown",
      "metadata": {
        "id": "bhzenL0Ry6DO"
      },
      "source": [
        "## 2. Data cleaning"
      ]
    },
    {
      "cell_type": "markdown",
      "metadata": {
        "id": "8Km9Qcduy-yr"
      },
      "source": [
        "Q5) Identify missing values in the columns"
      ]
    },
    {
      "cell_type": "code",
      "execution_count": 22,
      "metadata": {
        "id": "34SIFGj9xCnj"
      },
      "outputs": [],
      "source": []
    },
    {
      "cell_type": "markdown",
      "metadata": {
        "id": "220Wunke0i_y"
      },
      "source": [
        "Q6) Calculate the precentage of the missing values in the columns"
      ]
    },
    {
      "cell_type": "code",
      "execution_count": 22,
      "metadata": {
        "id": "5zaDAlXB0jZt"
      },
      "outputs": [],
      "source": []
    },
    {
      "cell_type": "markdown",
      "metadata": {
        "id": "m3Qay0EPzVyk"
      },
      "source": [
        "Q7) Examine the precentages of the missing values in the columns and perform missing value handling as needed"
      ]
    },
    {
      "cell_type": "code",
      "execution_count": 22,
      "metadata": {
        "id": "sn1sIPgX0I5Z"
      },
      "outputs": [],
      "source": []
    },
    {
      "cell_type": "markdown",
      "metadata": {
        "id": "qmOvAj-J1AWD"
      },
      "source": [
        "## 3. Numeric data analysis"
      ]
    },
    {
      "cell_type": "markdown",
      "metadata": {
        "id": "Rj79Zktg1t1A"
      },
      "source": [
        "Q8) Calculate the average lead time for bookings"
      ]
    },
    {
      "cell_type": "code",
      "execution_count": 22,
      "metadata": {
        "id": "aTyJc_nf1D-y"
      },
      "outputs": [],
      "source": []
    },
    {
      "cell_type": "markdown",
      "metadata": {
        "id": "i034mg4z13Uc"
      },
      "source": [
        "Q9) Determine the maximum and minimum values for 'adr' (average daily rate)"
      ]
    },
    {
      "cell_type": "code",
      "execution_count": 22,
      "metadata": {
        "id": "32lqDjU013rt"
      },
      "outputs": [],
      "source": []
    },
    {
      "cell_type": "markdown",
      "metadata": {
        "id": "meQxdleL14JF"
      },
      "source": [
        "Q10) Compute the total number of booking changes"
      ]
    },
    {
      "cell_type": "code",
      "execution_count": 22,
      "metadata": {
        "id": "X50r3PEo14hh"
      },
      "outputs": [],
      "source": []
    },
    {
      "cell_type": "markdown",
      "metadata": {
        "id": "kvXN5iv14uIs"
      },
      "source": [
        "## 4. Feature engineering"
      ]
    },
    {
      "cell_type": "markdown",
      "metadata": {
        "id": "5DHo8XUA4q6K"
      },
      "source": [
        "Q11) Create a new column that represents the total number of guests (adults, children, and babies) for each booking"
      ]
    },
    {
      "cell_type": "code",
      "execution_count": 22,
      "metadata": {
        "id": "DljfRmCh45-3"
      },
      "outputs": [],
      "source": []
    },
    {
      "cell_type": "markdown",
      "metadata": {
        "id": "65ZWbB7-46oV"
      },
      "source": [
        "Q12)  Create a new feature that calculates the total duration of stay for each booking. Show how to add this feature to the dataset"
      ]
    },
    {
      "cell_type": "code",
      "execution_count": 22,
      "metadata": {
        "id": "3zMMNsVd464T"
      },
      "outputs": [],
      "source": []
    },
    {
      "cell_type": "markdown",
      "metadata": {
        "id": "Nm31mX1d47Y-"
      },
      "source": [
        "Q13) Implement one-hot encoding for the 'market_segment' and 'distribution_channel' categorical columns"
      ]
    },
    {
      "cell_type": "code",
      "execution_count": 22,
      "metadata": {
        "id": "vE0uBSxY47r2"
      },
      "outputs": [],
      "source": []
    },
    {
      "cell_type": "markdown",
      "metadata": {
        "id": "TYkmk3Bv6XnM"
      },
      "source": [
        "## 5. Model building\n",
        "The goal is to build a Linear Regression model to predict the ADR for future bookings."
      ]
    },
    {
      "cell_type": "markdown",
      "metadata": {
        "id": "4p021Ifv6mby"
      },
      "source": [
        "Q14) Create a feature matrix (X) and a target vector (y) for training and testing."
      ]
    },
    {
      "cell_type": "code",
      "execution_count": 22,
      "metadata": {
        "id": "SLfyG6Un9m5U"
      },
      "outputs": [],
      "source": []
    },
    {
      "cell_type": "markdown",
      "metadata": {
        "id": "nGJgzL7Q_FQ1"
      },
      "source": [
        "Q15) Import the Linear Regression model from a machine learning library such as Scikit-Learn"
      ]
    },
    {
      "cell_type": "code",
      "execution_count": 22,
      "metadata": {
        "id": "ebLed8bb6xGl"
      },
      "outputs": [],
      "source": []
    },
    {
      "cell_type": "markdown",
      "metadata": {
        "id": "pswfcYus_VwS"
      },
      "source": [
        "Q16) Instantiate the Linear Regression model"
      ]
    },
    {
      "cell_type": "code",
      "execution_count": 22,
      "metadata": {
        "id": "vVqjjasD_WWh"
      },
      "outputs": [],
      "source": []
    },
    {
      "cell_type": "markdown",
      "metadata": {
        "id": "gRRwAPf0_bI3"
      },
      "source": [
        "Q17) Train the model using the training data by calling the fit method"
      ]
    },
    {
      "cell_type": "code",
      "execution_count": 22,
      "metadata": {
        "id": "vHgPGxpN_atP"
      },
      "outputs": [],
      "source": []
    },
    {
      "cell_type": "markdown",
      "metadata": {
        "id": "Lt0F1aIV_d39"
      },
      "source": [
        "Q18) Make predictions on the test dataset"
      ]
    },
    {
      "cell_type": "code",
      "execution_count": 22,
      "metadata": {
        "id": "dREyBxnw_eJ2"
      },
      "outputs": [],
      "source": []
    },
    {
      "cell_type": "markdown",
      "metadata": {
        "id": "FQppiu6L_i7c"
      },
      "source": [
        "### 6. Model evaluation"
      ]
    },
    {
      "cell_type": "markdown",
      "metadata": {
        "id": "UrJn7Otq_etj"
      },
      "source": [
        "Q19) Evaluate the model's performance using regression metrics such as Mean Absolute Error (MAE), Mean Squared Error (MSE), and Root Mean Squared Error (RMSE)"
      ]
    },
    {
      "cell_type": "code",
      "execution_count": 22,
      "metadata": {
        "id": "v7goVZTy_fB5"
      },
      "outputs": [],
      "source": []
    },
    {
      "cell_type": "markdown",
      "metadata": {
        "id": "J9EITzXJ_20T"
      },
      "source": [
        "Q20) Experiment with different feature engineering techniques or consider using regularization methods (e.g., Ridge or Lasso regression) to improve model performance."
      ]
    },
    {
      "cell_type": "code",
      "execution_count": 22,
      "metadata": {
        "id": "gsTJtVlX_3N5"
      },
      "outputs": [],
      "source": []
    },
    {
      "cell_type": "markdown",
      "metadata": {},
      "source": [
        "# F. Additional: \n",
        "\n",
        "- Build a pipeline to automate the data preprocessing and model building steps\n",
        "- Experiment with different machine learning models (e.g., Random Forest, XGBoost, etc.) to improve model performance\n",
        "- Experiment with different hyperparameter tuning strategies (e.g., GridSearchCV, RandomizedSearchCV, etc.) to improve model performance\n",
        "- Experiment with different feature selection techniques (e.g., SelectKBest, Recursive Feature Elimination, etc.) to improve model performance\n",
        "- Experiment with different feature scaling techniques (e.g., StandardScaler, MinMaxScaler, etc.) to improve model performance\n",
        "- Visualize the relationship between the target values and the features\n",
        "- Visualize the predictions of the top best models\n",
        "- Visualize the residuals of the top best models\n",
        "- Visualize the coefficients of the top best models\n"
      ]
    },
    {
      "cell_type": "code",
      "execution_count": null,
      "metadata": {},
      "outputs": [],
      "source": []
    }
  ],
  "metadata": {
    "colab": {
      "collapsed_sections": [
        "MR5zkwPvwyjS",
        "bhzenL0Ry6DO",
        "qmOvAj-J1AWD",
        "kvXN5iv14uIs"
      ],
      "provenance": []
    },
    "kernelspec": {
      "display_name": "Python 3",
      "name": "python3"
    },
    "language_info": {
      "name": "python"
    }
  },
  "nbformat": 4,
  "nbformat_minor": 0
}
